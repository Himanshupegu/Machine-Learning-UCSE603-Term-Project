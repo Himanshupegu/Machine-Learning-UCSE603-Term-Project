{
 "cells": [
  {
   "attachments": {},
   "cell_type": "markdown",
   "metadata": {},
   "source": [
    "### Risk Prediction of Life Insurance applicants using Deep Learning\n",
    "#### Machine learning (UCSE603) Term Project"
   ]
  },
  {
   "attachments": {},
   "cell_type": "markdown",
   "metadata": {},
   "source": [
    "#### Importing the libraries and dataset"
   ]
  },
  {
   "cell_type": "code",
   "execution_count": 2,
   "metadata": {},
   "outputs": [],
   "source": [
    "import numpy as np\n",
    "import matplotlib.pyplot as plt\n",
    "import pandas as pd\n",
    "import seaborn as sns\n",
    "from sklearn.model_selection import train_test_split"
   ]
  },
  {
   "cell_type": "code",
   "execution_count": 3,
   "metadata": {},
   "outputs": [
    {
     "name": "stdout",
     "output_type": "stream",
     "text": [
      "       Product_Info_1 Product_Info_2  Product_Info_3  Product_Info_4  \\\n",
      "Id                                                                     \n",
      "1                   1             D3              10        0.076923   \n",
      "2                   1             E1              26        0.076923   \n",
      "3                   1             D4              10        0.487179   \n",
      "4                   1             D2              26        0.230769   \n",
      "5                   1             D2              26        0.230769   \n",
      "...               ...            ...             ...             ...   \n",
      "41562               1             D4              26        0.307692   \n",
      "41563               1             D3              26        0.230769   \n",
      "41564               1             E1              26        0.076923   \n",
      "41565               1             D2              10        0.230769   \n",
      "41566               1             A8              26        0.076923   \n",
      "\n",
      "       Product_Info_5  Product_Info_6  Product_Info_7   Ins_Age        Ht  \\\n",
      "Id                                                                          \n",
      "1                   2               1               1  0.641791  0.581818   \n",
      "2                   2               3               1  0.029851  0.745455   \n",
      "3                   2               3               1  0.164179  0.672727   \n",
      "4                   2               3               1  0.417910  0.654545   \n",
      "5                   3               1               1  0.507463  0.836364   \n",
      "...               ...             ...             ...       ...       ...   \n",
      "41562               2               3               1  0.164179  0.690909   \n",
      "41563               2               3               1  0.432836  0.800000   \n",
      "41564               2               3               1  0.104478  0.745455   \n",
      "41565               2               3               1  0.507463  0.690909   \n",
      "41566               2               3               1  0.447761  0.781818   \n",
      "\n",
      "             Wt  ...  Medical_Keyword_40  Medical_Keyword_41  \\\n",
      "Id               ...                                           \n",
      "1      0.148536  ...                   0                   0   \n",
      "2      0.288703  ...                   0                   0   \n",
      "3      0.205021  ...                   0                   0   \n",
      "4      0.234310  ...                   0                   0   \n",
      "5      0.299163  ...                   0                   0   \n",
      "...         ...  ...                 ...                 ...   \n",
      "41562  0.288703  ...                   0                   0   \n",
      "41563  0.403766  ...                   0                   0   \n",
      "41564  0.246862  ...                   0                   0   \n",
      "41565  0.276151  ...                   1                   0   \n",
      "41566  0.382845  ...                   0                   0   \n",
      "\n",
      "       Medical_Keyword_42  Medical_Keyword_43  Medical_Keyword_44  \\\n",
      "Id                                                                  \n",
      "1                       0                   0                   0   \n",
      "2                       0                   0                   0   \n",
      "3                       0                   0                   0   \n",
      "4                       0                   0                   0   \n",
      "5                       0                   0                   0   \n",
      "...                   ...                 ...                 ...   \n",
      "41562                   0                   0                   0   \n",
      "41563                   0                   0                   0   \n",
      "41564                   0                   0                   0   \n",
      "41565                   0                   0                   0   \n",
      "41566                   0                   0                   0   \n",
      "\n",
      "       Medical_Keyword_45  Medical_Keyword_46  Medical_Keyword_47  \\\n",
      "Id                                                                  \n",
      "1                       0                   0                   0   \n",
      "2                       0                   0                   0   \n",
      "3                       0                   0                   0   \n",
      "4                       0                   0                   0   \n",
      "5                       0                   0                   0   \n",
      "...                   ...                 ...                 ...   \n",
      "41562                   0                   0                   0   \n",
      "41563                   0                   0                   0   \n",
      "41564                   0                   0                   0   \n",
      "41565                   0                   0                   0   \n",
      "41566                   0                   0                   0   \n",
      "\n",
      "       Medical_Keyword_48  Response  \n",
      "Id                                   \n",
      "1                       0         8  \n",
      "2                       0         8  \n",
      "3                       0         8  \n",
      "4                       0         8  \n",
      "5                       0         8  \n",
      "...                   ...       ...  \n",
      "41562                   0         7  \n",
      "41563                   0         7  \n",
      "41564                   0         8  \n",
      "41565                   0         8  \n",
      "41566                   0         7  \n",
      "\n",
      "[41566 rows x 127 columns]\n"
     ]
    },
    {
     "data": {
      "image/png": "[encoded data removed]",
      "text/plain": [
       "<Figure size 640x480 with 1 Axes>"
      ]
     },
     "metadata": {},
     "output_type": "display_data"
    }
   ],
   "source": [
    "insurance_df = pd.read_csv('../data/life-insurance-assessment-dataset/self_train.csv', index_col='Id')\n",
    "insurance_df.head()\n",
    "\n",
    "print(insurance_df)\n",
    "\n",
    "#Combining the Categores to 3 categories\n",
    "insurance_df['Modified_Response']  = insurance_df['Response']\n",
    "sns.countplot(x= insurance_df['Modified_Response']);\n",
    "# Dropping old response columns\n",
    "insurance_df.drop('Response',axis = 1, inplace=True)\n",
    "\n",
    "# Making lists with categorical and numerical features.\n",
    "categorical =  [col for col in insurance_df.columns if insurance_df[col].dtype =='object']\n",
    "\n",
    "numerical = categorical =  [col for col in insurance_df.columns if insurance_df[col].dtype !='object']"
   ]
  },
  {
   "cell_type": "code",
   "execution_count": 12,
   "metadata": {},
   "outputs": [
    {
     "name": "stdout",
     "output_type": "stream",
     "text": [
      "(41566, 127)\n",
      "(17815, 127)\n",
      "(59381, 127)\n"
     ]
    }
   ],
   "source": [
    "insurance_df_test = pd.read_csv('../data/life-insurance-assessment-dataset/self_test_wo_response.csv', index_col='Id')\n",
    "\n",
    "\n",
    "insurance_df_test['Modified_Response'] = np.zeros(insurance_df_test.shape[0])\n",
    "\n",
    "\n",
    "whole_df = pd.concat([insurance_df, insurance_df_test], ignore_index=True, sort=False)\n",
    "\n",
    "whole_df.head()\n",
    "print(insurance_df.shape)\n",
    "print(insurance_df_test.shape)\n",
    "print(whole_df.shape)"
   ]
  },
  {
   "attachments": {},
   "cell_type": "markdown",
   "metadata": {},
   "source": [
    "#### Taking care of missing data"
   ]
  },
  {
   "cell_type": "code",
   "execution_count": 13,
   "metadata": {},
   "outputs": [
    {
     "name": "stdout",
     "output_type": "stream",
     "text": [
      "Medical_History_10     0.990620\n",
      "Medical_History_32     0.981358\n",
      "Medical_History_24     0.935990\n",
      "Medical_History_15     0.751015\n",
      "Family_Hist_5          0.704114\n",
      "Family_Hist_3          0.576632\n",
      "Family_Hist_2          0.482579\n",
      "Insurance_History_5    0.427679\n",
      "dtype: float64\n"
     ]
    }
   ],
   "source": [
    "#checking percentage of missing values in a column\n",
    "missing_val_count_by_column = whole_df.isnull().sum()/len(whole_df)\n",
    "\n",
    "print(missing_val_count_by_column[missing_val_count_by_column > 0.4].sort_values(ascending=False))\n",
    "\n",
    "# Dropping all columns in which\n",
    "whole_df.drop(missing_val_count_by_column[missing_val_count_by_column > 0.4].index, axis=1, inplace=True)"
   ]
  },
  {
   "cell_type": "code",
   "execution_count": 14,
   "metadata": {},
   "outputs": [
    {
     "name": "stdout",
     "output_type": "stream",
     "text": [
      "(59381, 119)\n",
      "(41566, 119)\n",
      "(17815, 119)\n"
     ]
    }
   ],
   "source": [
    "insurance_df = whole_df.iloc[0:insurance_df.shape[0]]\n",
    "insurance_df_test = whole_df.iloc[insurance_df.shape[0]:whole_df.shape[0]]\n",
    "\n",
    "print(whole_df.shape)\n",
    "print(insurance_df.shape)\n",
    "print(insurance_df_test.shape)"
   ]
  },
  {
   "cell_type": "code",
   "execution_count": 17,
   "metadata": {},
   "outputs": [
    {
     "name": "stderr",
     "output_type": "stream",
     "text": [
      "C:\\Users\\himanshu pegu\\AppData\\Local\\Temp\\ipykernel_15560\\3033450412.py:8: FutureWarning: The default value of numeric_only in DataFrame.mean is deprecated. In a future version, it will default to False. In addition, specifying 'numeric_only=None' is deprecated. Select only valid columns or specify the value of numeric_only to silence this warning.\n",
      "  X = X.fillna(X.mean())\n",
      "C:\\Users\\himanshu pegu\\AppData\\Local\\Temp\\ipykernel_15560\\3033450412.py:11: FutureWarning: The default value of numeric_only in DataFrame.mean is deprecated. In a future version, it will default to False. In addition, specifying 'numeric_only=None' is deprecated. Select only valid columns or specify the value of numeric_only to silence this warning.\n",
      "  X_TEST = X_TEST.fillna(X_TEST.mean())\n"
     ]
    }
   ],
   "source": [
    "# Data for all the independent variables\n",
    "X = insurance_df.drop(labels='Modified_Response',axis=1)\n",
    "\n",
    "# Data for the dependent variable\n",
    "Y = insurance_df['Modified_Response']\n",
    "\n",
    "# Filling remaining missing values with mean\n",
    "X = X.fillna(X.mean())\n",
    "\n",
    "X_TEST = insurance_df_test.drop(labels='Modified_Response',axis=1)\n",
    "X_TEST = X_TEST.fillna(X_TEST.mean())"
   ]
  },
  {
   "attachments": {},
   "cell_type": "markdown",
   "metadata": {},
   "source": [
    "#### Splitting the dataset into the Training set and Test set"
   ]
  },
  {
   "cell_type": "code",
   "execution_count": 19,
   "metadata": {},
   "outputs": [
    {
     "name": "stdout",
     "output_type": "stream",
     "text": [
      "(31174, 118) (31174,)\n",
      "(10392, 118) (10392,)\n"
     ]
    }
   ],
   "source": [
    "X_train, X_test, Y_train, Y_test = train_test_split(X,Y,test_size = 0.25, random_state=1)\n",
    "# Check the shape of train dataset\n",
    "print(X_train.shape,Y_train.shape)\n",
    "\n",
    "# Check the shape of test dataset\n",
    "print(X_test.shape, Y_test.shape)"
   ]
  }
 ],
 "metadata": {
  "kernelspec": {
   "display_name": "Python 3",
   "language": "python",
   "name": "python3"
  },
  "language_info": {
   "codemirror_mode": {
    "name": "ipython",
    "version": 3
   },
   "file_extension": ".py",
   "mimetype": "text/x-python",
   "name": "python",
   "nbconvert_exporter": "python",
   "pygments_lexer": "ipython3",
   "version": "3.10.5"
  },
  "orig_nbformat": 4,
  "vscode": {
   "interpreter": {
    "hash": "b0afee5ab6fb5b2ab71d8d03568f14560964a20baec41ed24287cecb6f1e82c2"
   }
  }
 },
 "nbformat": 4,
 "nbformat_minor": 2
}
