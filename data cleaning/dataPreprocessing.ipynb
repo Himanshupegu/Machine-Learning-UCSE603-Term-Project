{
 "cells": [
  {
   "attachments": {},
   "cell_type": "markdown",
   "metadata": {},
   "source": [
    "### Machine Learning Term Project"
   ]
  },
  {
   "attachments": {},
   "cell_type": "markdown",
   "metadata": {},
   "source": [
    "#### Importing the libraries and dataset"
   ]
  },
  {
   "cell_type": "code",
   "execution_count": 4,
   "metadata": {},
   "outputs": [],
   "source": [
    "import numpy as np\n",
    "import matplotlib.pyplot as plt\n",
    "import pandas as pd"
   ]
  },
  {
   "cell_type": "code",
   "execution_count": null,
   "metadata": {},
   "outputs": [],
   "source": [
    "insurance_df = pd.read_csv('../data/prudential-life-insurance-assessment(dataSet)/CIT/6th sem/', index_col='Id')\n",
    "insurance_df.head()\n",
    "\n",
    "#Combining the Categores to 3 categories\n",
    "insurance_df['Modified_Response']  = insurance_df['Response']\n",
    "sns.countplot(x= insurance_df['Modified_Response']);\n",
    "# Dropping old response columns\n",
    "insurance_df.drop('Response',axis = 1, inplace=True)\n",
    "\n",
    "# Making lists with categorical and numerical features.\n",
    "categorical =  [col for col in insurance_df.columns if insurance_df[col].dtype =='object']\n",
    "\n",
    "numerical = categorical =  [col for col in insurance_df.columns if insurance_df[col].dtype !='object']"
   ]
  }
 ],
 "metadata": {
  "kernelspec": {
   "display_name": "Python 3",
   "language": "python",
   "name": "python3"
  },
  "language_info": {
   "codemirror_mode": {
    "name": "ipython",
    "version": 3
   },
   "file_extension": ".py",
   "mimetype": "text/x-python",
   "name": "python",
   "nbconvert_exporter": "python",
   "pygments_lexer": "ipython3",
   "version": "3.10.5"
  },
  "orig_nbformat": 4,
  "vscode": {
   "interpreter": {
    "hash": "b0afee5ab6fb5b2ab71d8d03568f14560964a20baec41ed24287cecb6f1e82c2"
   }
  }
 },
 "nbformat": 4,
 "nbformat_minor": 2
}
